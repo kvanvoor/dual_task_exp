{
 "cells": [
  {
   "cell_type": "code",
   "execution_count": null,
   "metadata": {},
   "outputs": [],
   "source": [
    "import math\n",
    "from PIL import Image, ImageDraw"
   ]
  },
  {
   "cell_type": "code",
   "execution_count": null,
   "metadata": {},
   "outputs": [],
   "source": [
    "w, h = 100, 100"
   ]
  },
  {
   "cell_type": "code",
   "execution_count": null,
   "metadata": {},
   "outputs": [],
   "source": [
    "img = Image.new(\"RGB\", (w, h))\n",
    "shape = [(100, 100), (w-10, h-10)]"
   ]
  },
  {
   "cell_type": "code",
   "execution_count": null,
   "metadata": {},
   "outputs": [],
   "source": [
    "img1 = ImageDraw.Draw(img)\n",
    "img1.rectangle(shape, fill =\"#FFFFFF\", outline =\"green\")\n",
    "img.show()"
   ]
  },
  {
   "cell_type": "code",
   "execution_count": null,
   "metadata": {},
   "outputs": [],
   "source": [
    "!python3 -m pip install pillow --upgrade"
   ]
  },
  {
   "cell_type": "code",
   "execution_count": 6,
   "metadata": {},
   "outputs": [],
   "source": [
    "from PIL import Image, ImageDraw\n",
    "\n",
    "\n",
    "def drawDice(drw, x, y, size, value, dotColor):\n",
    "\n",
    "    dots = []\n",
    "    drw.rounded_rectangle((x, y, x+size, y+size), fill=\"white\", outline=\"black\",\n",
    "                       width=3, radius=7)\n",
    "\n",
    "    padding = 0.25\n",
    "    a = padding*size\n",
    "    b = padding*size\n",
    "    dots.append([a, b])\n",
    "    b = size*0.5;\n",
    "    dots.append([a, b])\n",
    "    b = size * (1-padding)\n",
    "    dots.append([a, b])\n",
    "    a = size*0.5;\n",
    "    b = size*0.5;\n",
    "    dots.append([a, b])\n",
    "    a = size * (1-padding)\n",
    "    b = padding*size;\n",
    "    dots.append([a, b])\n",
    "    b = size*0.5;\n",
    "    dots.append([a, b])\n",
    "    b = size * (1-padding)\n",
    "    dots.append([a, b])\n",
    "\n",
    "    dotsToDraw = []\n",
    "    if (value == 1): dotsToDraw = [3]\n",
    "    elif (value == 2): dotsToDraw = [0, 6]\n",
    "    elif (value == 3): dotsToDraw = [0, 3, 6]\n",
    "    elif (value == 4): dotsToDraw = [0, 2, 4, 6]\n",
    "    elif (value == 5): dotsToDraw = [0, 2, 3, 4, 6]\n",
    "    elif (value == 6): dotsToDraw = [0, 1, 2, 4, 5, 6]\n",
    "    else: print(\"Dice value shall be between 1 and 6\")\n",
    "\n",
    "    for i in range(len(dotsToDraw)):\n",
    "        drw.ellipse((dots[dotsToDraw[i]][0]-size*0.07, dots[dotsToDraw[i]][1]-size*0.07, dots[dotsToDraw[i]][0]+size*0.07, dots[dotsToDraw[i]][1]+size*0.07), fill=dotColor, outline=dotColor)\n",
    "        \n",
    "colors = [\"red\",\"blue\", \"green\", \"purple\", \"yellow\", \"black\", \"gray\"]\n",
    "\n",
    "for i in range(1, 7):\n",
    "    for color in colors:\n",
    "        image = Image.new(\"RGB\", (100, 100), \"white\")\n",
    "        draw = ImageDraw.Draw(image)\n",
    "        drawDice(draw, 0, 0, 100, i, color)\n",
    "        image.save(color + \"dice\" + str(i) +\".pdf\")"
   ]
  },
  {
   "cell_type": "code",
   "execution_count": null,
   "metadata": {},
   "outputs": [],
   "source": []
  }
 ],
 "metadata": {
  "kernelspec": {
   "display_name": "Python 3",
   "language": "python",
   "name": "python3"
  },
  "language_info": {
   "codemirror_mode": {
    "name": "ipython",
    "version": 3
   },
   "file_extension": ".py",
   "mimetype": "text/x-python",
   "name": "python",
   "nbconvert_exporter": "python",
   "pygments_lexer": "ipython3",
   "version": "3.7.4"
  }
 },
 "nbformat": 4,
 "nbformat_minor": 2
}
